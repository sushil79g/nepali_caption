{
  "nbformat": 4,
  "nbformat_minor": 0,
  "metadata": {
    "colab": {
      "name": "nepali_caption.ipynb",
      "version": "0.3.2",
      "provenance": [],
      "collapsed_sections": [],
      "include_colab_link": true
    },
    "kernelspec": {
      "name": "python3",
      "display_name": "Python 3"
    },
    "accelerator": "GPU"
  },
  "cells": [
    {
      "cell_type": "markdown",
      "metadata": {
        "id": "view-in-github",
        "colab_type": "text"
      },
      "source": [
        "<a href=\"https://colab.research.google.com/github/sushil79g/nepali_caption/blob/master/notebooks/nepali_caption.ipynb\" target=\"_parent\"><img src=\"https://colab.research.google.com/assets/colab-badge.svg\" alt=\"Open In Colab\"/></a>"
      ]
    },
    {
      "cell_type": "code",
      "metadata": {
        "id": "bPkG0jBwgKAD",
        "colab_type": "code",
        "outputId": "28eaf503-ae28-4fd5-b873-6dba6e2aed80",
        "colab": {
          "base_uri": "https://localhost:8080/",
          "height": 122
        }
      },
      "source": [
        "from google.colab import drive\n",
        "drive.mount('/content/drive')"
      ],
      "execution_count": 0,
      "outputs": [
        {
          "output_type": "stream",
          "text": [
            "Go to this URL in a browser: https://accounts.google.com/o/oauth2/auth?client_id=947318989803-6bn6qk8qdgf4n4g3pfee6491hc0brc4i.apps.googleusercontent.com&redirect_uri=urn%3Aietf%3Awg%3Aoauth%3A2.0%3Aoob&scope=email%20https%3A%2F%2Fwww.googleapis.com%2Fauth%2Fdocs.test%20https%3A%2F%2Fwww.googleapis.com%2Fauth%2Fdrive%20https%3A%2F%2Fwww.googleapis.com%2Fauth%2Fdrive.photos.readonly%20https%3A%2F%2Fwww.googleapis.com%2Fauth%2Fpeopleapi.readonly&response_type=code\n",
            "\n",
            "Enter your authorization code:\n",
            "··········\n",
            "Mounted at /content/drive\n"
          ],
          "name": "stdout"
        }
      ]
    },
    {
      "cell_type": "code",
      "metadata": {
        "id": "FYbgU3wtgLD-",
        "colab_type": "code",
        "colab": {}
      },
      "source": [
        "base_dir = 'drive/My Drive/Image_Captioning/'"
      ],
      "execution_count": 0,
      "outputs": []
    },
    {
      "cell_type": "code",
      "metadata": {
        "id": "LfUewKqIhPQp",
        "colab_type": "code",
        "colab": {}
      },
      "source": [
        "import pandas as pd\n",
        "train_nepali = pd.read_csv(base_dir + 'annotations/caption_train_withNepali.csv')\n",
        "validation_nepali = pd.read_csv(base_dir + 'annotations/caption_validation_withNepali.csv',names=['image_id','id','en_caption','ne_caption'])\n",
        "train_nepali.drop('Unnamed: 0',inplace=True,axis=1)\n",
        "train_nepali.columns = ['image_id','id','en_caption','ne_caption']"
      ],
      "execution_count": 0,
      "outputs": []
    },
    {
      "cell_type": "code",
      "metadata": {
        "id": "rCekIpA0hQ71",
        "colab_type": "code",
        "outputId": "aa7c2fa9-84c5-4fb7-c062-fab95590d15b",
        "colab": {
          "base_uri": "https://localhost:8080/",
          "height": 204
        }
      },
      "source": [
        "validation_nepali.head()"
      ],
      "execution_count": 0,
      "outputs": [
        {
          "output_type": "execute_result",
          "data": {
            "text/html": [
              "<div>\n",
              "<style scoped>\n",
              "    .dataframe tbody tr th:only-of-type {\n",
              "        vertical-align: middle;\n",
              "    }\n",
              "\n",
              "    .dataframe tbody tr th {\n",
              "        vertical-align: top;\n",
              "    }\n",
              "\n",
              "    .dataframe thead th {\n",
              "        text-align: right;\n",
              "    }\n",
              "</style>\n",
              "<table border=\"1\" class=\"dataframe\">\n",
              "  <thead>\n",
              "    <tr style=\"text-align: right;\">\n",
              "      <th></th>\n",
              "      <th>image_id</th>\n",
              "      <th>id</th>\n",
              "      <th>en_caption</th>\n",
              "      <th>ne_caption</th>\n",
              "    </tr>\n",
              "  </thead>\n",
              "  <tbody>\n",
              "    <tr>\n",
              "      <th>0</th>\n",
              "      <td>203564</td>\n",
              "      <td>37</td>\n",
              "      <td>A bicycle replica with a clock as the front wh...</td>\n",
              "      <td>अगाडि पाङ्ग्रा रूपमा घडी संग एक साइकल नक्कली।</td>\n",
              "    </tr>\n",
              "    <tr>\n",
              "      <th>1</th>\n",
              "      <td>179765</td>\n",
              "      <td>38</td>\n",
              "      <td>A black Honda motorcycle parked in front of a ...</td>\n",
              "      <td>कालो होन्डा मोटरसाइकल एक ग्यारेज अगाडि पार्क।</td>\n",
              "    </tr>\n",
              "    <tr>\n",
              "      <th>2</th>\n",
              "      <td>322141</td>\n",
              "      <td>49</td>\n",
              "      <td>A room with blue walls and a white sink and door.</td>\n",
              "      <td>नीलो पर्खाल संग एक कोठा र एउटा सेतो डुब्नु र ढ...</td>\n",
              "    </tr>\n",
              "    <tr>\n",
              "      <th>3</th>\n",
              "      <td>16977</td>\n",
              "      <td>89</td>\n",
              "      <td>A car that seems to be parked illegally behind...</td>\n",
              "      <td>एक कानुनी रूपमा पार्क कार पछि अवैध पार्क देखिन...</td>\n",
              "    </tr>\n",
              "    <tr>\n",
              "      <th>4</th>\n",
              "      <td>106140</td>\n",
              "      <td>98</td>\n",
              "      <td>A large passenger airplane flying through the ...</td>\n",
              "      <td>एक ठूलो यात्री हवाइजहाज हावा मार्फत उडान।</td>\n",
              "    </tr>\n",
              "  </tbody>\n",
              "</table>\n",
              "</div>"
            ],
            "text/plain": [
              "   image_id  ...                                         ne_caption\n",
              "0    203564  ...      अगाडि पाङ्ग्रा रूपमा घडी संग एक साइकल नक्कली।\n",
              "1    179765  ...      कालो होन्डा मोटरसाइकल एक ग्यारेज अगाडि पार्क।\n",
              "2    322141  ...  नीलो पर्खाल संग एक कोठा र एउटा सेतो डुब्नु र ढ...\n",
              "3     16977  ...  एक कानुनी रूपमा पार्क कार पछि अवैध पार्क देखिन...\n",
              "4    106140  ...          एक ठूलो यात्री हवाइजहाज हावा मार्फत उडान।\n",
              "\n",
              "[5 rows x 4 columns]"
            ]
          },
          "metadata": {
            "tags": []
          },
          "execution_count": 4
        }
      ]
    },
    {
      "cell_type": "code",
      "metadata": {
        "id": "PMuMKXGPijn_",
        "colab_type": "code",
        "colab": {}
      },
      "source": [
        "import json\n",
        "with open(base_dir + 'annotations/captions_train2014.json') as outfile:  \n",
        "    train_json = json.load(outfile)"
      ],
      "execution_count": 0,
      "outputs": []
    },
    {
      "cell_type": "code",
      "metadata": {
        "id": "OouMkXzRi7ZF",
        "colab_type": "code",
        "outputId": "abd33f41-316c-4da3-b3bb-427823014ac6",
        "colab": {
          "base_uri": "https://localhost:8080/",
          "height": 102
        }
      },
      "source": [
        "for i in range(5):\n",
        "    print(train_json['annotations'][i])"
      ],
      "execution_count": 0,
      "outputs": [
        {
          "output_type": "stream",
          "text": [
            "{'image_id': 318556, 'id': 48, 'caption': 'A very clean and well decorated empty bathroom'}\n",
            "{'image_id': 116100, 'id': 67, 'caption': 'A panoramic view of a kitchen and all of its appliances.'}\n",
            "{'image_id': 318556, 'id': 126, 'caption': 'A blue and white bathroom with butterfly themed wall tiles.'}\n",
            "{'image_id': 116100, 'id': 148, 'caption': 'A panoramic photo of a kitchen and dining room'}\n",
            "{'image_id': 379340, 'id': 173, 'caption': 'A graffiti-ed stop sign across the street from a red car '}\n"
          ],
          "name": "stdout"
        }
      ]
    },
    {
      "cell_type": "code",
      "metadata": {
        "id": "xDcJpZjaXaUT",
        "colab_type": "code",
        "outputId": "a59215cd-5648-4fc8-e4be-e1c31b6f212b",
        "colab": {
          "base_uri": "https://localhost:8080/",
          "height": 34
        }
      },
      "source": [
        "# for item in train_json['annotations']:\n",
        "#     image_id_train = item['image_id']\n",
        "#     id_train = item['id']\n",
        "#     caption_en = item['caption']\n",
        "#     print(caption_en)\n",
        "#     break"
      ],
      "execution_count": 0,
      "outputs": [
        {
          "output_type": "stream",
          "text": [
            "एक धेरै सफा र राम्रो सजाया खाली बाथरूम\n"
          ],
          "name": "stdout"
        }
      ]
    },
    {
      "cell_type": "code",
      "metadata": {
        "id": "jF33p6CyOWO8",
        "colab_type": "code",
        "outputId": "df8571fb-173f-4d3f-98a0-9c5a8e413583",
        "colab": {
          "base_uri": "https://localhost:8080/",
          "height": 34
        }
      },
      "source": [
        "# temp_ = train_nepali[train_nepali.image_id == 116100]\n",
        "# caption = list(temp_[temp_.id==148]['ne_caption'])[0]\n",
        "# caption"
      ],
      "execution_count": 0,
      "outputs": [
        {
          "output_type": "execute_result",
          "data": {
            "text/plain": [
              "'एक भान्सा र भोजन कक्ष को एक मनोरम फोटो'"
            ]
          },
          "metadata": {
            "tags": []
          },
          "execution_count": 28
        }
      ]
    },
    {
      "cell_type": "code",
      "metadata": {
        "id": "qnfBl_xlqUxz",
        "colab_type": "code",
        "colab": {}
      },
      "source": [
        "for index,item in enumerate(train_json['annotations']):\n",
        "    image_id_train = item['image_id']\n",
        "    id_train = item['id']\n",
        "    temp_ = train_nepali[train_nepali.image_id == image_id_train]\n",
        "    caption = list(temp_[temp_.id==id_train]['ne_caption'])[0]\n",
        "    item['caption'] = caption\n",
        "    "
      ],
      "execution_count": 0,
      "outputs": []
    },
    {
      "cell_type": "code",
      "metadata": {
        "id": "B475bOjXajc_",
        "colab_type": "code",
        "colab": {}
      },
      "source": [
        "import json\n",
        "with open(base_dir + 'annotations/captions_val2014.json') as outfile:  \n",
        "    val_json = json.load(outfile)"
      ],
      "execution_count": 0,
      "outputs": []
    },
    {
      "cell_type": "code",
      "metadata": {
        "id": "wr-EK5aDbA5O",
        "colab_type": "code",
        "outputId": "4795a2d8-0b17-4378-8dc4-fc540c5ac63b",
        "colab": {
          "base_uri": "https://localhost:8080/",
          "height": 122
        }
      },
      "source": [
        "for i in range(5):\n",
        "    print(val_json['annotations'][i])"
      ],
      "execution_count": 0,
      "outputs": [
        {
          "output_type": "stream",
          "text": [
            "{'image_id': 203564, 'id': 37, 'caption': 'A bicycle replica with a clock as the front wheel.'}\n",
            "{'image_id': 179765, 'id': 38, 'caption': 'A black Honda motorcycle parked in front of a garage.'}\n",
            "{'image_id': 322141, 'id': 49, 'caption': 'A room with blue walls and a white sink and door.'}\n",
            "{'image_id': 16977, 'id': 89, 'caption': 'A car that seems to be parked illegally behind a legally parked car'}\n",
            "{'image_id': 106140, 'id': 98, 'caption': 'A large passenger airplane flying through the air.'}\n"
          ],
          "name": "stdout"
        }
      ]
    },
    {
      "cell_type": "code",
      "metadata": {
        "id": "hB2Rm092Ioub",
        "colab_type": "code",
        "outputId": "20b72c68-c0b8-4ce2-c1bc-3ae32f22d721",
        "colab": {
          "base_uri": "https://localhost:8080/",
          "height": 34
        }
      },
      "source": [
        "from tqdm import tqdm\n",
        "for index,item in tqdm(enumerate(val_json['annotations'])):\n",
        "    image_id_val = item['image_id']\n",
        "    id_val = item['id']\n",
        "    temp_ = validation_nepali[validation_nepali.image_id == image_id_val]\n",
        "    caption = list(temp_[temp_.id==id_val]['ne_caption'])[0]\n",
        "    item['caption'] = caption"
      ],
      "execution_count": 0,
      "outputs": [
        {
          "output_type": "stream",
          "text": [
            "202654it [05:39, 596.90it/s]\n"
          ],
          "name": "stderr"
        }
      ]
    },
    {
      "cell_type": "code",
      "metadata": {
        "id": "GEz6YxZ2dS8c",
        "colab_type": "code",
        "colab": {}
      },
      "source": [
        "with open('train_nepali.json', 'w', encoding='utf-8') as f:\n",
        "    json.dump(train_json, f)"
      ],
      "execution_count": 0,
      "outputs": []
    },
    {
      "cell_type": "code",
      "metadata": {
        "id": "Ayyavc_XdVCw",
        "colab_type": "code",
        "colab": {}
      },
      "source": [
        "with open('validation_nepali.json', 'w', encoding='utf-8') as f:\n",
        "    json.dump(val_json, f)"
      ],
      "execution_count": 0,
      "outputs": []
    },
    {
      "cell_type": "code",
      "metadata": {
        "id": "kjeM2gtaw0Kg",
        "colab_type": "code",
        "outputId": "c9c2a2c4-d0b9-449c-823a-69c68ceda268",
        "colab": {
          "base_uri": "https://localhost:8080/",
          "height": 34
        }
      },
      "source": [
        "len(train_nepali.image_id.unique())"
      ],
      "execution_count": 23,
      "outputs": [
        {
          "output_type": "execute_result",
          "data": {
            "text/plain": [
              "82783"
            ]
          },
          "metadata": {
            "tags": []
          },
          "execution_count": 23
        }
      ]
    },
    {
      "cell_type": "code",
      "metadata": {
        "id": "MkdFrqtwGo09",
        "colab_type": "code",
        "colab": {
          "base_uri": "https://localhost:8080/",
          "height": 34
        },
        "outputId": "826d6769-582c-4003-d397-f67588088771"
      },
      "source": [
        "len(validation_nepali.image_id.unique())"
      ],
      "execution_count": 24,
      "outputs": [
        {
          "output_type": "execute_result",
          "data": {
            "text/plain": [
              "40504"
            ]
          },
          "metadata": {
            "tags": []
          },
          "execution_count": 24
        }
      ]
    },
    {
      "cell_type": "code",
      "metadata": {
        "id": "kR0mMRitzWv6",
        "colab_type": "code",
        "colab": {}
      },
      "source": [
        "##lets start modelling"
      ],
      "execution_count": 0,
      "outputs": []
    },
    {
      "cell_type": "code",
      "metadata": {
        "id": "6eloMJiwCw2E",
        "colab_type": "code",
        "colab": {}
      },
      "source": [
        "import os\n",
        "import sys\n",
        "sys.path.append('/opt/cocoapi/PythonAPI/')\n",
        "from pycocotools.coco import COCO"
      ],
      "execution_count": 0,
      "outputs": []
    },
    {
      "cell_type": "code",
      "metadata": {
        "id": "0nz_LDe0Cxpz",
        "colab_type": "code",
        "colab": {}
      },
      "source": [
        "import numpy as np\n",
        "import skimage.io as io\n",
        "import matplotlib.pyplot as plt\n",
        "%matplotlib inline"
      ],
      "execution_count": 0,
      "outputs": []
    },
    {
      "cell_type": "code",
      "metadata": {
        "id": "VKrK8h7CC-E2",
        "colab_type": "code",
        "colab": {
          "base_uri": "https://localhost:8080/",
          "height": 204
        },
        "outputId": "6fabc05d-5b09-4c55-ffcc-6f6e86f24446"
      },
      "source": [
        "##get the images for training \n",
        "!wget http://images.cocodataset.org/zips/train2014.zip"
      ],
      "execution_count": 21,
      "outputs": [
        {
          "output_type": "stream",
          "text": [
            "--2019-07-18 07:58:24--  http://images.cocodataset.org/zips/train2014.zip\n",
            "Resolving images.cocodataset.org (images.cocodataset.org)... 52.216.145.3\n",
            "Connecting to images.cocodataset.org (images.cocodataset.org)|52.216.145.3|:80... connected.\n",
            "HTTP request sent, awaiting response... 200 OK\n",
            "Length: 13510573713 (13G) [application/zip]\n",
            "Saving to: ‘train2014.zip’\n",
            "\n",
            "train2014.zip       100%[===================>]  12.58G  92.2MB/s    in 3m 22s  \n",
            "\n",
            "2019-07-18 08:01:46 (63.9 MB/s) - ‘train2014.zip’ saved [13510573713/13510573713]\n",
            "\n"
          ],
          "name": "stdout"
        }
      ]
    },
    {
      "cell_type": "code",
      "metadata": {
        "id": "Rbk60DIVFs1A",
        "colab_type": "code",
        "colab": {
          "base_uri": "https://localhost:8080/",
          "height": 204
        },
        "outputId": "e569e421-6c04-4a68-bfd2-088249730111"
      },
      "source": [
        "#get the image for validation\n",
        "!wget http://images.cocodataset.org/zips/val2014.zip"
      ],
      "execution_count": 25,
      "outputs": [
        {
          "output_type": "stream",
          "text": [
            "--2019-07-18 08:03:15--  http://images.cocodataset.org/zips/val2014.zip\n",
            "Resolving images.cocodataset.org (images.cocodataset.org)... 52.217.37.100\n",
            "Connecting to images.cocodataset.org (images.cocodataset.org)|52.217.37.100|:80... connected.\n",
            "HTTP request sent, awaiting response... 200 OK\n",
            "Length: 6645013297 (6.2G) [application/zip]\n",
            "Saving to: ‘val2014.zip’\n",
            "\n",
            "val2014.zip         100%[===================>]   6.19G  65.4MB/s    in 2m 24s  \n",
            "\n",
            "2019-07-18 08:05:39 (44.0 MB/s) - ‘val2014.zip’ saved [6645013297/6645013297]\n",
            "\n"
          ],
          "name": "stdout"
        }
      ]
    },
    {
      "cell_type": "code",
      "metadata": {
        "id": "eQM3xuO-G0cx",
        "colab_type": "code",
        "colab": {}
      },
      "source": [
        "!unzip -q train2014.zip"
      ],
      "execution_count": 0,
      "outputs": []
    },
    {
      "cell_type": "code",
      "metadata": {
        "id": "OQX1BE4bHpSj",
        "colab_type": "code",
        "colab": {}
      },
      "source": [
        "!unzip -q val2014.zip"
      ],
      "execution_count": 0,
      "outputs": []
    },
    {
      "cell_type": "code",
      "metadata": {
        "id": "6C5p-AV9LoXw",
        "colab_type": "code",
        "colab": {}
      },
      "source": [
        ""
      ],
      "execution_count": 0,
      "outputs": []
    }
  ]
}