{
  "nbformat": 4,
  "nbformat_minor": 0,
  "metadata": {
    "colab": {
      "name": "nepali_caption.ipynb",
      "version": "0.3.2",
      "provenance": [],
      "collapsed_sections": [],
      "include_colab_link": true
    },
    "kernelspec": {
      "name": "python3",
      "display_name": "Python 3"
    },
    "accelerator": "GPU"
  },
  "cells": [
    {
      "cell_type": "markdown",
      "metadata": {
        "id": "view-in-github",
        "colab_type": "text"
      },
      "source": [
        "<a href=\"https://colab.research.google.com/github/sushil79g/nepali_caption/blob/master/notebooks/nepali_caption.ipynb\" target=\"_parent\"><img src=\"https://colab.research.google.com/assets/colab-badge.svg\" alt=\"Open In Colab\"/></a>"
      ]
    },
    {
      "cell_type": "code",
      "metadata": {
        "id": "bPkG0jBwgKAD",
        "colab_type": "code",
        "outputId": "70c2e998-2b9a-41a0-a386-11648f6ee9b7",
        "colab": {
          "base_uri": "https://localhost:8080/",
          "height": 125
        }
      },
      "source": [
        "from google.colab import drive\n",
        "drive.mount('/content/drive')"
      ],
      "execution_count": 1,
      "outputs": [
        {
          "output_type": "stream",
          "text": [
            "Go to this URL in a browser: https://accounts.google.com/o/oauth2/auth?client_id=947318989803-6bn6qk8qdgf4n4g3pfee6491hc0brc4i.apps.googleusercontent.com&redirect_uri=urn%3Aietf%3Awg%3Aoauth%3A2.0%3Aoob&scope=email%20https%3A%2F%2Fwww.googleapis.com%2Fauth%2Fdocs.test%20https%3A%2F%2Fwww.googleapis.com%2Fauth%2Fdrive%20https%3A%2F%2Fwww.googleapis.com%2Fauth%2Fdrive.photos.readonly%20https%3A%2F%2Fwww.googleapis.com%2Fauth%2Fpeopleapi.readonly&response_type=code\n",
            "\n",
            "Enter your authorization code:\n",
            "··········\n",
            "Mounted at /content/drive\n"
          ],
          "name": "stdout"
        }
      ]
    },
    {
      "cell_type": "code",
      "metadata": {
        "id": "FYbgU3wtgLD-",
        "colab_type": "code",
        "colab": {}
      },
      "source": [
        "base_dir = 'drive/My Drive/Image_Captioning/'"
      ],
      "execution_count": 0,
      "outputs": []
    },
    {
      "cell_type": "code",
      "metadata": {
        "id": "LfUewKqIhPQp",
        "colab_type": "code",
        "colab": {}
      },
      "source": [
        "import pandas as pd\n",
        "train_nepali = pd.read_csv(base_dir + 'annotations/caption_train_withNepali.csv')\n",
        "validation_nepali = pd.read_csv(base_dir + 'annotations/caption_validation_withNepali.csv',names=['image_id','id','en_caption','ne_caption'])\n",
        "train_nepali.drop('Unnamed: 0',inplace=True,axis=1)\n",
        "train_nepali.columns = ['image_id','id','en_caption','ne_caption']"
      ],
      "execution_count": 0,
      "outputs": []
    },
    {
      "cell_type": "code",
      "metadata": {
        "id": "azwzLU7qgciQ",
        "colab_type": "code",
        "outputId": "b2eca529-1934-438b-9136-b153e9367aaf",
        "colab": {
          "base_uri": "https://localhost:8080/",
          "height": 204
        }
      },
      "source": [
        "train_nepali.head()"
      ],
      "execution_count": 0,
      "outputs": [
        {
          "output_type": "execute_result",
          "data": {
            "text/html": [
              "<div>\n",
              "<style scoped>\n",
              "    .dataframe tbody tr th:only-of-type {\n",
              "        vertical-align: middle;\n",
              "    }\n",
              "\n",
              "    .dataframe tbody tr th {\n",
              "        vertical-align: top;\n",
              "    }\n",
              "\n",
              "    .dataframe thead th {\n",
              "        text-align: right;\n",
              "    }\n",
              "</style>\n",
              "<table border=\"1\" class=\"dataframe\">\n",
              "  <thead>\n",
              "    <tr style=\"text-align: right;\">\n",
              "      <th></th>\n",
              "      <th>image_id</th>\n",
              "      <th>id</th>\n",
              "      <th>en_caption</th>\n",
              "      <th>ne_caption</th>\n",
              "    </tr>\n",
              "  </thead>\n",
              "  <tbody>\n",
              "    <tr>\n",
              "      <th>0</th>\n",
              "      <td>318556</td>\n",
              "      <td>48</td>\n",
              "      <td>A very clean and well decorated empty bathroom</td>\n",
              "      <td>एक धेरै सफा र राम्रो सजाया खाली बाथरूम</td>\n",
              "    </tr>\n",
              "    <tr>\n",
              "      <th>1</th>\n",
              "      <td>116100</td>\n",
              "      <td>67</td>\n",
              "      <td>A panoramic view of a kitchen and all of its a...</td>\n",
              "      <td>एक भान्सा को एक मनोरम दृश्य र यसको उपकरण सबै।</td>\n",
              "    </tr>\n",
              "    <tr>\n",
              "      <th>2</th>\n",
              "      <td>318556</td>\n",
              "      <td>126</td>\n",
              "      <td>A blue and white bathroom with butterfly theme...</td>\n",
              "      <td>पुतली थिम्ड पर्खाल टाइल नीलो र सेतो बाथरूम।</td>\n",
              "    </tr>\n",
              "    <tr>\n",
              "      <th>3</th>\n",
              "      <td>116100</td>\n",
              "      <td>148</td>\n",
              "      <td>A panoramic photo of a kitchen and dining room</td>\n",
              "      <td>एक भान्सा र भोजन कक्ष को एक मनोरम फोटो</td>\n",
              "    </tr>\n",
              "    <tr>\n",
              "      <th>4</th>\n",
              "      <td>379340</td>\n",
              "      <td>173</td>\n",
              "      <td>A graffiti-ed stop sign across the street from...</td>\n",
              "      <td>सडक मार्फत एक graffiti-एड स्टप साइन रातो कार देखि</td>\n",
              "    </tr>\n",
              "  </tbody>\n",
              "</table>\n",
              "</div>"
            ],
            "text/plain": [
              "   image_id  ...                                         ne_caption\n",
              "0    318556  ...             एक धेरै सफा र राम्रो सजाया खाली बाथरूम\n",
              "1    116100  ...      एक भान्सा को एक मनोरम दृश्य र यसको उपकरण सबै।\n",
              "2    318556  ...        पुतली थिम्ड पर्खाल टाइल नीलो र सेतो बाथरूम।\n",
              "3    116100  ...             एक भान्सा र भोजन कक्ष को एक मनोरम फोटो\n",
              "4    379340  ...  सडक मार्फत एक graffiti-एड स्टप साइन रातो कार देखि\n",
              "\n",
              "[5 rows x 4 columns]"
            ]
          },
          "metadata": {
            "tags": []
          },
          "execution_count": 12
        }
      ]
    },
    {
      "cell_type": "code",
      "metadata": {
        "id": "rCekIpA0hQ71",
        "colab_type": "code",
        "outputId": "14aec232-8fd1-4bc4-d91c-ac881fa2419a",
        "colab": {
          "base_uri": "https://localhost:8080/",
          "height": 204
        }
      },
      "source": [
        "validation_nepali.head()"
      ],
      "execution_count": 0,
      "outputs": [
        {
          "output_type": "execute_result",
          "data": {
            "text/html": [
              "<div>\n",
              "<style scoped>\n",
              "    .dataframe tbody tr th:only-of-type {\n",
              "        vertical-align: middle;\n",
              "    }\n",
              "\n",
              "    .dataframe tbody tr th {\n",
              "        vertical-align: top;\n",
              "    }\n",
              "\n",
              "    .dataframe thead th {\n",
              "        text-align: right;\n",
              "    }\n",
              "</style>\n",
              "<table border=\"1\" class=\"dataframe\">\n",
              "  <thead>\n",
              "    <tr style=\"text-align: right;\">\n",
              "      <th></th>\n",
              "      <th>image_id</th>\n",
              "      <th>id</th>\n",
              "      <th>en_caption</th>\n",
              "      <th>ne_caption</th>\n",
              "    </tr>\n",
              "  </thead>\n",
              "  <tbody>\n",
              "    <tr>\n",
              "      <th>0</th>\n",
              "      <td>203564</td>\n",
              "      <td>37</td>\n",
              "      <td>A bicycle replica with a clock as the front wh...</td>\n",
              "      <td>अगाडि पाङ्ग्रा रूपमा घडी संग एक साइकल नक्कली।</td>\n",
              "    </tr>\n",
              "    <tr>\n",
              "      <th>1</th>\n",
              "      <td>179765</td>\n",
              "      <td>38</td>\n",
              "      <td>A black Honda motorcycle parked in front of a ...</td>\n",
              "      <td>कालो होन्डा मोटरसाइकल एक ग्यारेज अगाडि पार्क।</td>\n",
              "    </tr>\n",
              "    <tr>\n",
              "      <th>2</th>\n",
              "      <td>322141</td>\n",
              "      <td>49</td>\n",
              "      <td>A room with blue walls and a white sink and door.</td>\n",
              "      <td>नीलो पर्खाल संग एक कोठा र एउटा सेतो डुब्नु र ढ...</td>\n",
              "    </tr>\n",
              "    <tr>\n",
              "      <th>3</th>\n",
              "      <td>16977</td>\n",
              "      <td>89</td>\n",
              "      <td>A car that seems to be parked illegally behind...</td>\n",
              "      <td>एक कानुनी रूपमा पार्क कार पछि अवैध पार्क देखिन...</td>\n",
              "    </tr>\n",
              "    <tr>\n",
              "      <th>4</th>\n",
              "      <td>106140</td>\n",
              "      <td>98</td>\n",
              "      <td>A large passenger airplane flying through the ...</td>\n",
              "      <td>एक ठूलो यात्री हवाइजहाज हावा मार्फत उडान।</td>\n",
              "    </tr>\n",
              "  </tbody>\n",
              "</table>\n",
              "</div>"
            ],
            "text/plain": [
              "   image_id  ...                                         ne_caption\n",
              "0    203564  ...      अगाडि पाङ्ग्रा रूपमा घडी संग एक साइकल नक्कली।\n",
              "1    179765  ...      कालो होन्डा मोटरसाइकल एक ग्यारेज अगाडि पार्क।\n",
              "2    322141  ...  नीलो पर्खाल संग एक कोठा र एउटा सेतो डुब्नु र ढ...\n",
              "3     16977  ...  एक कानुनी रूपमा पार्क कार पछि अवैध पार्क देखिन...\n",
              "4    106140  ...          एक ठूलो यात्री हवाइजहाज हावा मार्फत उडान।\n",
              "\n",
              "[5 rows x 4 columns]"
            ]
          },
          "metadata": {
            "tags": []
          },
          "execution_count": 10
        }
      ]
    },
    {
      "cell_type": "code",
      "metadata": {
        "id": "PMuMKXGPijn_",
        "colab_type": "code",
        "colab": {}
      },
      "source": [
        "import json\n",
        "with open(base_dir + 'annotations/captions_train2014.json') as outfile:  \n",
        "    train_json = json.load(outfile)"
      ],
      "execution_count": 0,
      "outputs": []
    },
    {
      "cell_type": "code",
      "metadata": {
        "id": "OouMkXzRi7ZF",
        "colab_type": "code",
        "outputId": "abd33f41-316c-4da3-b3bb-427823014ac6",
        "colab": {
          "base_uri": "https://localhost:8080/",
          "height": 102
        }
      },
      "source": [
        "for i in range(5):\n",
        "    print(train_json['annotations'][i])"
      ],
      "execution_count": 0,
      "outputs": [
        {
          "output_type": "stream",
          "text": [
            "{'image_id': 318556, 'id': 48, 'caption': 'A very clean and well decorated empty bathroom'}\n",
            "{'image_id': 116100, 'id': 67, 'caption': 'A panoramic view of a kitchen and all of its appliances.'}\n",
            "{'image_id': 318556, 'id': 126, 'caption': 'A blue and white bathroom with butterfly themed wall tiles.'}\n",
            "{'image_id': 116100, 'id': 148, 'caption': 'A panoramic photo of a kitchen and dining room'}\n",
            "{'image_id': 379340, 'id': 173, 'caption': 'A graffiti-ed stop sign across the street from a red car '}\n"
          ],
          "name": "stdout"
        }
      ]
    },
    {
      "cell_type": "code",
      "metadata": {
        "id": "xDcJpZjaXaUT",
        "colab_type": "code",
        "outputId": "a59215cd-5648-4fc8-e4be-e1c31b6f212b",
        "colab": {
          "base_uri": "https://localhost:8080/",
          "height": 34
        }
      },
      "source": [
        "# for item in train_json['annotations']:\n",
        "#     image_id_train = item['image_id']\n",
        "#     id_train = item['id']\n",
        "#     caption_en = item['caption']\n",
        "#     print(caption_en)\n",
        "#     break"
      ],
      "execution_count": 0,
      "outputs": [
        {
          "output_type": "stream",
          "text": [
            "एक धेरै सफा र राम्रो सजाया खाली बाथरूम\n"
          ],
          "name": "stdout"
        }
      ]
    },
    {
      "cell_type": "code",
      "metadata": {
        "id": "jF33p6CyOWO8",
        "colab_type": "code",
        "outputId": "df8571fb-173f-4d3f-98a0-9c5a8e413583",
        "colab": {
          "base_uri": "https://localhost:8080/",
          "height": 34
        }
      },
      "source": [
        "# temp_ = train_nepali[train_nepali.image_id == 116100]\n",
        "# caption = list(temp_[temp_.id==148]['ne_caption'])[0]\n",
        "# caption"
      ],
      "execution_count": 0,
      "outputs": [
        {
          "output_type": "execute_result",
          "data": {
            "text/plain": [
              "'एक भान्सा र भोजन कक्ष को एक मनोरम फोटो'"
            ]
          },
          "metadata": {
            "tags": []
          },
          "execution_count": 28
        }
      ]
    },
    {
      "cell_type": "code",
      "metadata": {
        "id": "qnfBl_xlqUxz",
        "colab_type": "code",
        "colab": {}
      },
      "source": [
        "for index,item in enumerate(train_json['annotations']):\n",
        "    image_id_train = item['image_id']\n",
        "    id_train = item['id']\n",
        "    temp_ = train_nepali[train_nepali.image_id == image_id_train]\n",
        "    caption = list(temp_[temp_.id==id_train]['ne_caption'])[0]\n",
        "    item['caption'] = caption\n",
        "    "
      ],
      "execution_count": 0,
      "outputs": []
    },
    {
      "cell_type": "code",
      "metadata": {
        "id": "B475bOjXajc_",
        "colab_type": "code",
        "colab": {}
      },
      "source": [
        "import json\n",
        "with open(base_dir + 'annotations/captions_val2014.json') as outfile:  \n",
        "    val_json = json.load(outfile)"
      ],
      "execution_count": 0,
      "outputs": []
    },
    {
      "cell_type": "code",
      "metadata": {
        "id": "wr-EK5aDbA5O",
        "colab_type": "code",
        "outputId": "4795a2d8-0b17-4378-8dc4-fc540c5ac63b",
        "colab": {
          "base_uri": "https://localhost:8080/",
          "height": 122
        }
      },
      "source": [
        "for i in range(5):\n",
        "    print(val_json['annotations'][i])"
      ],
      "execution_count": 0,
      "outputs": [
        {
          "output_type": "stream",
          "text": [
            "{'image_id': 203564, 'id': 37, 'caption': 'A bicycle replica with a clock as the front wheel.'}\n",
            "{'image_id': 179765, 'id': 38, 'caption': 'A black Honda motorcycle parked in front of a garage.'}\n",
            "{'image_id': 322141, 'id': 49, 'caption': 'A room with blue walls and a white sink and door.'}\n",
            "{'image_id': 16977, 'id': 89, 'caption': 'A car that seems to be parked illegally behind a legally parked car'}\n",
            "{'image_id': 106140, 'id': 98, 'caption': 'A large passenger airplane flying through the air.'}\n"
          ],
          "name": "stdout"
        }
      ]
    },
    {
      "cell_type": "code",
      "metadata": {
        "id": "hB2Rm092Ioub",
        "colab_type": "code",
        "outputId": "20b72c68-c0b8-4ce2-c1bc-3ae32f22d721",
        "colab": {
          "base_uri": "https://localhost:8080/",
          "height": 34
        }
      },
      "source": [
        "from tqdm import tqdm\n",
        "for index,item in tqdm(enumerate(val_json['annotations'])):\n",
        "    image_id_val = item['image_id']\n",
        "    id_val = item['id']\n",
        "    temp_ = validation_nepali[validation_nepali.image_id == image_id_val]\n",
        "    caption = list(temp_[temp_.id==id_val]['ne_caption'])[0]\n",
        "    item['caption'] = caption"
      ],
      "execution_count": 0,
      "outputs": [
        {
          "output_type": "stream",
          "text": [
            "202654it [05:39, 596.90it/s]\n"
          ],
          "name": "stderr"
        }
      ]
    },
    {
      "cell_type": "code",
      "metadata": {
        "id": "GEz6YxZ2dS8c",
        "colab_type": "code",
        "colab": {}
      },
      "source": [
        "with open('train_nepali.json', 'w', encoding='utf-8') as f:\n",
        "    json.dump(train_json, f)"
      ],
      "execution_count": 0,
      "outputs": []
    },
    {
      "cell_type": "code",
      "metadata": {
        "id": "Ayyavc_XdVCw",
        "colab_type": "code",
        "colab": {}
      },
      "source": [
        "with open('validation_nepali.json', 'w', encoding='utf-8') as f:\n",
        "    json.dump(val_json, f)"
      ],
      "execution_count": 0,
      "outputs": []
    },
    {
      "cell_type": "code",
      "metadata": {
        "id": "kjeM2gtaw0Kg",
        "colab_type": "code",
        "outputId": "c9c2a2c4-d0b9-449c-823a-69c68ceda268",
        "colab": {
          "base_uri": "https://localhost:8080/",
          "height": 34
        }
      },
      "source": [
        "len(train_nepali.image_id.unique())"
      ],
      "execution_count": 0,
      "outputs": [
        {
          "output_type": "execute_result",
          "data": {
            "text/plain": [
              "82783"
            ]
          },
          "metadata": {
            "tags": []
          },
          "execution_count": 23
        }
      ]
    },
    {
      "cell_type": "code",
      "metadata": {
        "id": "MkdFrqtwGo09",
        "colab_type": "code",
        "outputId": "826d6769-582c-4003-d397-f67588088771",
        "colab": {
          "base_uri": "https://localhost:8080/",
          "height": 34
        }
      },
      "source": [
        "len(validation_nepali.image_id.unique())"
      ],
      "execution_count": 0,
      "outputs": [
        {
          "output_type": "execute_result",
          "data": {
            "text/plain": [
              "40504"
            ]
          },
          "metadata": {
            "tags": []
          },
          "execution_count": 24
        }
      ]
    },
    {
      "cell_type": "code",
      "metadata": {
        "id": "kR0mMRitzWv6",
        "colab_type": "code",
        "colab": {}
      },
      "source": [
        "##lets start modelling"
      ],
      "execution_count": 0,
      "outputs": []
    },
    {
      "cell_type": "code",
      "metadata": {
        "id": "6eloMJiwCw2E",
        "colab_type": "code",
        "colab": {}
      },
      "source": [
        "import os\n",
        "import sys\n",
        "sys.path.append('/opt/cocoapi/PythonAPI/')\n",
        "from pycocotools.coco import COCO"
      ],
      "execution_count": 0,
      "outputs": []
    },
    {
      "cell_type": "code",
      "metadata": {
        "id": "0nz_LDe0Cxpz",
        "colab_type": "code",
        "colab": {}
      },
      "source": [
        "import numpy as np\n",
        "import skimage.io as io\n",
        "import matplotlib.pyplot as plt\n",
        "%matplotlib inline"
      ],
      "execution_count": 0,
      "outputs": []
    },
    {
      "cell_type": "code",
      "metadata": {
        "id": "VKrK8h7CC-E2",
        "colab_type": "code",
        "outputId": "eea2fcfe-fbe2-4300-a53a-8dd8b1ed904f",
        "colab": {
          "base_uri": "https://localhost:8080/",
          "height": 407
        }
      },
      "source": [
        "##get the images for training \n",
        "!wget http://images.cocodataset.org/zips/train2014.zip\n",
        "#get the image for validation\n",
        "!wget http://images.cocodataset.org/zips/val2014.zip"
      ],
      "execution_count": 7,
      "outputs": [
        {
          "output_type": "stream",
          "text": [
            "--2019-07-26 04:08:47--  http://images.cocodataset.org/zips/train2014.zip\n",
            "Resolving images.cocodataset.org (images.cocodataset.org)... 52.217.37.236\n",
            "Connecting to images.cocodataset.org (images.cocodataset.org)|52.217.37.236|:80... connected.\n",
            "HTTP request sent, awaiting response... 200 OK\n",
            "Length: 13510573713 (13G) [application/zip]\n",
            "Saving to: ‘train2014.zip’\n",
            "\n",
            "train2014.zip       100%[===================>]  12.58G  63.9MB/s    in 4m 9s   \n",
            "\n",
            "2019-07-26 04:12:56 (51.7 MB/s) - ‘train2014.zip’ saved [13510573713/13510573713]\n",
            "\n",
            "--2019-07-26 04:12:58--  http://images.cocodataset.org/zips/val2014.zip\n",
            "Resolving images.cocodataset.org (images.cocodataset.org)... 52.216.104.243\n",
            "Connecting to images.cocodataset.org (images.cocodataset.org)|52.216.104.243|:80... connected.\n",
            "HTTP request sent, awaiting response... 200 OK\n",
            "Length: 6645013297 (6.2G) [application/zip]\n",
            "Saving to: ‘val2014.zip’\n",
            "\n",
            "val2014.zip         100%[===================>]   6.19G  45.3MB/s    in 2m 17s  \n",
            "\n",
            "2019-07-26 04:15:15 (46.3 MB/s) - ‘val2014.zip’ saved [6645013297/6645013297]\n",
            "\n"
          ],
          "name": "stdout"
        }
      ]
    },
    {
      "cell_type": "code",
      "metadata": {
        "id": "Rbk60DIVFs1A",
        "colab_type": "code",
        "colab": {}
      },
      "source": [
        "!unzip -q train2014.zip\n",
        "!unzip -q val2014.zip"
      ],
      "execution_count": 0,
      "outputs": []
    },
    {
      "cell_type": "code",
      "metadata": {
        "id": "6C5p-AV9LoXw",
        "colab_type": "code",
        "colab": {}
      },
      "source": [
        "import json\n",
        "with open(base_dir + 'annotations/validation_nepali.json') as outfile:  \n",
        "    val_json = json.load(outfile)\n",
        "with open(base_dir + 'annotations/train_nepali.json') as outfile:  \n",
        "    train_json = json.load(outfile)"
      ],
      "execution_count": 0,
      "outputs": []
    },
    {
      "cell_type": "code",
      "metadata": {
        "id": "VI8G124db_2_",
        "colab_type": "code",
        "outputId": "4a752fb2-61ff-4179-f31a-e16d9d3ba921",
        "colab": {
          "base_uri": "https://localhost:8080/",
          "height": 416
        }
      },
      "source": [
        "import cv2\n",
        "from google.colab.patches import cv2_imshow\n",
        "test_image_id = validation_nepali.iloc[0]['image_id']\n",
        "def show_image(dir_name, image_id):\n",
        "    image_name = 'COCO_'+dir_name+'_'+ str(image_id).zfill(12) + '.jpg'\n",
        "    path = dir_name+'/'+image_name\n",
        "    cv2_imshow(cv2.imread(path))\n",
        "\n",
        "show_image('val2014',test_image_id)\n"
      ],
      "execution_count": 10,
      "outputs": [
        {
          "output_type": "display_data",
          "data": {
            "image/png": "[encoded data removed]",
            "text/plain": [
              "<PIL.Image.Image image mode=RGB size=400x400 at 0x7F257C44EB00>"
            ]
          },
          "metadata": {
            "tags": []
          }
        }
      ]
    },
    {
      "cell_type": "code",
      "metadata": {
        "id": "DR7amXVVhfl2",
        "colab_type": "code",
        "colab": {}
      },
      "source": [
        "import nltk\n",
        "import pickle\n",
        "import os.path\n",
        "from pycocotools.coco import COCO\n",
        "from collections import Counter\n",
        "\n",
        "class Vocabulary(object):\n",
        "\n",
        "    def __init__(self,\n",
        "        vocab_threshold,\n",
        "        vocab_file='./vocab.pkl',\n",
        "        start_word=\"<start>\",\n",
        "        end_word=\"<end>\",\n",
        "        unk_word=\"<unk>\",\n",
        "        annotations_file='../cocoapi/annotations/captions_train2014.json',\n",
        "        vocab_from_file=False):\n",
        "        \"\"\"Initialize the vocabulary.\n",
        "        Args:\n",
        "          vocab_threshold: Minimum word count threshold.\n",
        "          vocab_file: File containing the vocabulary.\n",
        "          start_word: Special word denoting sentence start.\n",
        "          end_word: Special word denoting sentence end.\n",
        "          unk_word: Special word denoting unknown words.\n",
        "          annotations_file: Path for train annotation file.\n",
        "          vocab_from_file: If False, create vocab from scratch & override any existing vocab_file\n",
        "                           If True, load vocab from from existing vocab_file, if it exists\n",
        "        \"\"\"\n",
        "        self.vocab_threshold = vocab_threshold\n",
        "        self.vocab_file = vocab_file\n",
        "        self.start_word = start_word\n",
        "        self.end_word = end_word\n",
        "        self.unk_word = unk_word\n",
        "        self.annotations_file = annotations_file\n",
        "        self.vocab_from_file = vocab_from_file\n",
        "        self.get_vocab()\n",
        "\n",
        "    def get_vocab(self):\n",
        "        \"\"\"Load the vocabulary from file OR build the vocabulary from scratch.\"\"\"\n",
        "        if os.path.exists(self.vocab_file) & self.vocab_from_file:\n",
        "            with open(self.vocab_file, 'rb') as f:\n",
        "                vocab = pickle.load(f)\n",
        "                self.word2idx = vocab.word2idx\n",
        "                self.idx2word = vocab.idx2word\n",
        "            print('Vocabulary successfully loaded from vocab.pkl file!')\n",
        "        else:\n",
        "            self.build_vocab()\n",
        "            with open(self.vocab_file, 'wb') as f:\n",
        "                pickle.dump(self, f)\n",
        "        \n",
        "    def build_vocab(self):\n",
        "        \"\"\"Populate the dictionaries for converting tokens to integers (and vice-versa).\"\"\"\n",
        "        self.init_vocab()\n",
        "        self.add_word(self.start_word)\n",
        "        self.add_word(self.end_word)\n",
        "        self.add_word(self.unk_word)\n",
        "        self.add_captions()\n",
        "\n",
        "    def init_vocab(self):\n",
        "        \"\"\"Initialize the dictionaries for converting tokens to integers (and vice-versa).\"\"\"\n",
        "        self.word2idx = {}\n",
        "        self.idx2word = {}\n",
        "        self.idx = 0\n",
        "\n",
        "    def add_word(self, word):\n",
        "        \"\"\"Add a token to the vocabulary.\"\"\"\n",
        "        if not word in self.word2idx:\n",
        "            self.word2idx[word] = self.idx\n",
        "            self.idx2word[self.idx] = word\n",
        "            self.idx += 1\n",
        "\n",
        "    def add_captions(self):\n",
        "        \"\"\"Loop over training captions and add all tokens to the vocabulary that meet or exceed the threshold.\"\"\"\n",
        "        coco = COCO(self.annotations_file)\n",
        "        counter = Counter()\n",
        "        ids = coco.anns.keys()\n",
        "        for i, id in enumerate(ids):\n",
        "            caption = str(coco.anns[id]['caption'])\n",
        "            tokens = nltk.tokenize.word_tokenize(caption.lower())\n",
        "            counter.update(tokens)\n",
        "\n",
        "            if i % 100000 == 0:\n",
        "                print(\"[%d/%d] Tokenizing captions...\" % (i, len(ids)))\n",
        "\n",
        "        words = [word for word, cnt in counter.items() if cnt >= self.vocab_threshold]\n",
        "\n",
        "        for i, word in enumerate(words):\n",
        "            self.add_word(word)\n",
        "\n",
        "    def __call__(self, word):\n",
        "        if not word in self.word2idx:\n",
        "            return self.word2idx[self.unk_word]\n",
        "        return self.word2idx[word]\n",
        "\n",
        "    def __len__(self):\n",
        "        return len(self.word2idx)"
      ],
      "execution_count": 0,
      "outputs": []
    },
    {
      "cell_type": "code",
      "metadata": {
        "id": "myh2BbfvcE6O",
        "colab_type": "code",
        "colab": {}
      },
      "source": [
        "import nltk\n",
        "import os\n",
        "import torch\n",
        "import torch.utils.data as data\n",
        "# from vocabulary import Vocabulary\n",
        "from PIL import Image\n",
        "from pycocotools.coco import COCO\n",
        "import numpy as np\n",
        "from tqdm import tqdm\n",
        "import random\n",
        "import json\n",
        "\n",
        "def get_loader(transform,\n",
        "               mode='train',\n",
        "               batch_size=1,\n",
        "               vocab_threshold=None,\n",
        "               vocab_file='./vocab.pkl',\n",
        "               start_word=\"<start>\",\n",
        "               end_word=\"<end>\",\n",
        "               unk_word=\"<unk>\",\n",
        "               vocab_from_file=True,\n",
        "               num_workers=0,\n",
        "               cocoapi_loc='/opt'):\n",
        "    \"\"\"Returns the data loader.\n",
        "    Args:\n",
        "      transform: Image transform.\n",
        "      mode: One of 'train' or 'test'.\n",
        "      batch_size: Batch size (if in testing mode, must have batch_size=1).\n",
        "      vocab_threshold: Minimum word count threshold.\n",
        "      vocab_file: File containing the vocabulary. \n",
        "      start_word: Special word denoting sentence start.\n",
        "      end_word: Special word denoting sentence end.\n",
        "      unk_word: Special word denoting unknown words.\n",
        "      vocab_from_file: If False, create vocab from scratch & override any existing vocab_file.\n",
        "                       If True, load vocab from from existing vocab_file, if it exists.\n",
        "      num_workers: Number of subprocesses to use for data loading \n",
        "      cocoapi_loc: The location of the folder containing the COCO API: https://github.com/cocodataset/cocoapi\n",
        "    \"\"\"\n",
        "    \n",
        "    assert mode in ['train', 'test'], \"mode must be one of 'train' or 'test'.\"\n",
        "    if vocab_from_file==False: assert mode=='train', \"To generate vocab from captions file, must be in training mode (mode='train').\"\n",
        "\n",
        "    # Based on mode (train, val, test), obtain img_folder and annotations_file.\n",
        "    if mode == 'train':\n",
        "        if vocab_from_file==True: assert os.path.exists(vocab_file), \"vocab_file does not exist.  Change vocab_from_file to False to create vocab_file.\"\n",
        "        img_folder = os.path.join('train2014/')\n",
        "        annotations_file = os.path.join(base_dir + 'annotations/train_nepali.json')\n",
        "    if mode == 'test':\n",
        "        assert batch_size==1, \"Please change batch_size to 1 if testing your model.\"\n",
        "        assert os.path.exists(vocab_file), \"Must first generate vocab.pkl from training data.\"\n",
        "        assert vocab_from_file==True, \"Change vocab_from_file to True.\"\n",
        "        img_folder = os.path.join('val2014/')\n",
        "        annotations_file = os.path.join(base_dir + 'annotations/validation_nepali.json')\n",
        "\n",
        "    # COCO caption dataset.\n",
        "    dataset = CoCoDataset(transform=transform,\n",
        "                          mode=mode,\n",
        "                          batch_size=batch_size,\n",
        "                          vocab_threshold=vocab_threshold,\n",
        "                          vocab_file=vocab_file,\n",
        "                          start_word=start_word,\n",
        "                          end_word=end_word,\n",
        "                          unk_word=unk_word,\n",
        "                          annotations_file=annotations_file,\n",
        "                          vocab_from_file=vocab_from_file,\n",
        "                          img_folder=img_folder)\n",
        "\n",
        "    if mode == 'train':\n",
        "        # Randomly sample a caption length, and sample indices with that length.\n",
        "        indices = dataset.get_train_indices()\n",
        "        # Create and assign a batch sampler to retrieve a batch with the sampled indices.\n",
        "        initial_sampler = data.sampler.SubsetRandomSampler(indices=indices)\n",
        "        # data loader for COCO dataset.\n",
        "        data_loader = data.DataLoader(dataset=dataset, \n",
        "                                      num_workers=num_workers,\n",
        "                                      batch_sampler=data.sampler.BatchSampler(sampler=initial_sampler,\n",
        "                                                                              batch_size=dataset.batch_size,\n",
        "                                                                              drop_last=False))\n",
        "    else:\n",
        "        data_loader = data.DataLoader(dataset=dataset,\n",
        "                                      batch_size=dataset.batch_size,\n",
        "                                      shuffle=True,\n",
        "                                      num_workers=num_workers)\n",
        "\n",
        "    return data_loader\n",
        "\n",
        "class CoCoDataset(data.Dataset):\n",
        "    \n",
        "    def __init__(self, transform, mode, batch_size, vocab_threshold, vocab_file, start_word, \n",
        "        end_word, unk_word, annotations_file, vocab_from_file, img_folder):\n",
        "        self.transform = transform\n",
        "        self.mode = mode\n",
        "        self.batch_size = batch_size\n",
        "        self.vocab = Vocabulary(vocab_threshold, vocab_file, start_word,\n",
        "            end_word, unk_word, annotations_file, vocab_from_file)\n",
        "        self.img_folder = img_folder\n",
        "        if self.mode == 'train':\n",
        "            self.coco = COCO(annotations_file)\n",
        "            self.ids = list(self.coco.anns.keys())\n",
        "            print('Obtaining caption lengths...')\n",
        "            all_tokens = [nltk.tokenize.word_tokenize(str(self.coco.anns[self.ids[index]]['caption']).lower()) for index in tqdm(np.arange(len(self.ids)))]\n",
        "            self.caption_lengths = [len(token) for token in all_tokens]\n",
        "        else:\n",
        "            test_info = json.loads(open(annotations_file).read())\n",
        "            self.paths = [item['file_name'] for item in test_info['images']]\n",
        "        \n",
        "    def __getitem__(self, index):\n",
        "        # obtain image and caption if in training mode\n",
        "        if self.mode == 'train':\n",
        "            ann_id = self.ids[index]\n",
        "            caption = self.coco.anns[ann_id]['caption']\n",
        "            img_id = self.coco.anns[ann_id]['image_id']\n",
        "            path = self.coco.loadImgs(img_id)[0]['file_name']\n",
        "\n",
        "            # Convert image to tensor and pre-process using transform\n",
        "            image = Image.open(os.path.join(self.img_folder, path)).convert('RGB')\n",
        "            image = self.transform(image)\n",
        "\n",
        "            # Convert caption to tensor of word ids.\n",
        "            tokens = nltk.tokenize.word_tokenize(str(caption).lower())\n",
        "            caption = []\n",
        "            caption.append(self.vocab(self.vocab.start_word))\n",
        "            caption.extend([self.vocab(token) for token in tokens])\n",
        "            caption.append(self.vocab(self.vocab.end_word))\n",
        "            caption = torch.Tensor(caption).long()\n",
        "\n",
        "            # return pre-processed image and caption tensors\n",
        "            return image, caption\n",
        "\n",
        "        # obtain image if in test mode\n",
        "        else:\n",
        "            path = self.paths[index]\n",
        "\n",
        "            # Convert image to tensor and pre-process using transform\n",
        "            PIL_image = Image.open(os.path.join(self.img_folder, path)).convert('RGB')\n",
        "            orig_image = np.array(PIL_image)\n",
        "            image = self.transform(PIL_image)\n",
        "\n",
        "            # return original image and pre-processed image tensor\n",
        "            return orig_image, image\n",
        "\n",
        "    def get_train_indices(self):\n",
        "        sel_length = np.random.choice(self.caption_lengths)\n",
        "        all_indices = np.where([self.caption_lengths[i] == sel_length for i in np.arange(len(self.caption_lengths))])[0]\n",
        "        indices = list(np.random.choice(all_indices, size=self.batch_size))\n",
        "        return indices\n",
        "\n",
        "    def __len__(self):\n",
        "        if self.mode == 'train':\n",
        "            return len(self.ids)\n",
        "        else:\n",
        "            return len(self.paths)"
      ],
      "execution_count": 0,
      "outputs": []
    },
    {
      "cell_type": "code",
      "metadata": {
        "id": "tLFmuDizhnEf",
        "colab_type": "code",
        "outputId": "0bc1d5a7-17fa-4f85-c2b8-b0906757b295",
        "colab": {
          "base_uri": "https://localhost:8080/",
          "height": 87
        }
      },
      "source": [
        "import sys\n",
        "sys.path.append('/opt/cocoapi/PythonAPI')\n",
        "from pycocotools.coco import COCO\n",
        "!pip install nltk\n",
        "import nltk\n",
        "nltk.download('punkt')\n",
        "# from data_loader import get_loader\n",
        "from torchvision import transforms\n",
        "transform_train = transforms.Compose([ \n",
        "    transforms.Resize(256),                          # smaller edge of image resized to 256\n",
        "    transforms.RandomCrop(224),                      # get 224x224 crop from random location\n",
        "    transforms.RandomHorizontalFlip(),               # horizontally flip image with probability=0.5\n",
        "    transforms.ToTensor(),                           # convert the PIL Image to a tensor\n",
        "    transforms.Normalize((0.485, 0.456, 0.406),      # normalize image for pre-trained model\n",
        "                         (0.229, 0.224, 0.225))])"
      ],
      "execution_count": 13,
      "outputs": [
        {
          "output_type": "stream",
          "text": [
            "Requirement already satisfied: nltk in /usr/local/lib/python3.6/dist-packages (3.2.5)\n",
            "Requirement already satisfied: six in /usr/local/lib/python3.6/dist-packages (from nltk) (1.12.0)\n",
            "[nltk_data] Downloading package punkt to /root/nltk_data...\n",
            "[nltk_data]   Unzipping tokenizers/punkt.zip.\n"
          ],
          "name": "stdout"
        }
      ]
    },
    {
      "cell_type": "code",
      "metadata": {
        "id": "H_Y09IejiRn9",
        "colab_type": "code",
        "outputId": "c6feb068-18fa-4916-8f73-fed5b879b8cc",
        "colab": {
          "base_uri": "https://localhost:8080/",
          "height": 283
        }
      },
      "source": [
        "vocab_threshold = 5\n",
        "\n",
        "# Specify the batch size.\n",
        "batch_size = 10\n",
        "\n",
        "# Obtain the data loader.\n",
        "data_loader = get_loader(transform=transform_train,\n",
        "                         mode='train',\n",
        "                         batch_size=batch_size,\n",
        "                         vocab_threshold=vocab_threshold,\n",
        "                         vocab_from_file=False)"
      ],
      "execution_count": 14,
      "outputs": [
        {
          "output_type": "stream",
          "text": [
            "loading annotations into memory...\n",
            "Done (t=2.39s)\n",
            "creating index...\n",
            "index created!\n",
            "[0/414113] Tokenizing captions...\n",
            "[100000/414113] Tokenizing captions...\n",
            "[200000/414113] Tokenizing captions...\n",
            "[300000/414113] Tokenizing captions...\n",
            "[400000/414113] Tokenizing captions...\n",
            "loading annotations into memory...\n",
            "Done (t=2.39s)\n",
            "creating index...\n"
          ],
          "name": "stdout"
        },
        {
          "output_type": "stream",
          "text": [
            "  0%|          | 699/414113 [00:00<00:59, 6984.08it/s]"
          ],
          "name": "stderr"
        },
        {
          "output_type": "stream",
          "text": [
            "index created!\n",
            "Obtaining caption lengths...\n"
          ],
          "name": "stdout"
        },
        {
          "output_type": "stream",
          "text": [
            "100%|██████████| 414113/414113 [00:59<00:00, 6955.26it/s]\n"
          ],
          "name": "stderr"
        }
      ]
    },
    {
      "cell_type": "code",
      "metadata": {
        "id": "rSLfxxsipSz9",
        "colab_type": "code",
        "outputId": "53d9c08f-b221-4051-88fe-269e985fa3b4",
        "colab": {
          "base_uri": "https://localhost:8080/",
          "height": 887
        }
      },
      "source": [
        "\n",
        "from collections import Counter\n",
        "\n",
        "# Tally the total number of training captions with each length.\n",
        "counter = Counter(data_loader.dataset.caption_lengths)\n",
        "lengths = sorted(counter.items(), key=lambda pair: pair[1], reverse=True)\n",
        "for value, count in lengths:\n",
        "    print('value: %2d --- count: %5d' % (value, count))"
      ],
      "execution_count": 15,
      "outputs": [
        {
          "output_type": "stream",
          "text": [
            "value:  8 --- count: 94269\n",
            "value:  9 --- count: 87162\n",
            "value: 10 --- count: 62137\n",
            "value:  7 --- count: 59550\n",
            "value: 11 --- count: 36986\n",
            "value: 12 --- count: 20750\n",
            "value:  6 --- count: 20519\n",
            "value: 13 --- count: 11192\n",
            "value: 14 --- count:  6414\n",
            "value: 15 --- count:  3793\n",
            "value:  5 --- count:  3563\n",
            "value: 16 --- count:  2446\n",
            "value: 17 --- count:  1478\n",
            "value: 18 --- count:   985\n",
            "value: 19 --- count:   676\n",
            "value: 20 --- count:   512\n",
            "value: 21 --- count:   339\n",
            "value:  4 --- count:   293\n",
            "value: 22 --- count:   240\n",
            "value: 23 --- count:   162\n",
            "value: 24 --- count:   111\n",
            "value: 25 --- count:    77\n",
            "value: 26 --- count:    71\n",
            "value: 27 --- count:    55\n",
            "value: 28 --- count:    50\n",
            "value: 30 --- count:    31\n",
            "value: 29 --- count:    30\n",
            "value: 31 --- count:    27\n",
            "value: 32 --- count:    25\n",
            "value: 33 --- count:    20\n",
            "value: 34 --- count:    17\n",
            "value: 35 --- count:    14\n",
            "value: 40 --- count:    13\n",
            "value: 38 --- count:    12\n",
            "value: 39 --- count:    12\n",
            "value: 43 --- count:    12\n",
            "value: 36 --- count:    12\n",
            "value: 37 --- count:    10\n",
            "value: 41 --- count:     9\n",
            "value: 42 --- count:     8\n",
            "value: 44 --- count:     7\n",
            "value: 46 --- count:     6\n",
            "value: 45 --- count:     4\n",
            "value: 49 --- count:     4\n",
            "value:  3 --- count:     3\n",
            "value:  2 --- count:     3\n",
            "value: 47 --- count:     2\n",
            "value: 52 --- count:     1\n",
            "value: 48 --- count:     1\n"
          ],
          "name": "stdout"
        }
      ]
    },
    {
      "cell_type": "code",
      "metadata": {
        "id": "hTcv1SZr2qhm",
        "colab_type": "code",
        "colab": {}
      },
      "source": [
        "import torch\n",
        "import torch.nn as nn\n",
        "import torch.nn.functional as F\n",
        "import torchvision.models as models\n",
        "\n",
        "\n",
        "class EncoderCNN(nn.Module):\n",
        "    def __init__(self, embed_size):\n",
        "        super(EncoderCNN, self).__init__()\n",
        "        resnet = models.resnet50(pretrained=True)\n",
        "        for param in resnet.parameters():\n",
        "            param.requires_grad_(False)\n",
        "        \n",
        "        modules = list(resnet.children())[:-1]\n",
        "        self.resnet = nn.Sequential(*modules)\n",
        "        self.embed = nn.Linear(resnet.fc.in_features, embed_size)\n",
        "\n",
        "    def forward(self, images):\n",
        "        features = self.resnet(images)\n",
        "        features = features.view(features.size(0), -1)\n",
        "        features = self.embed(features)\n",
        "        return features\n",
        "    \n",
        "\n",
        "class DecoderRNN(nn.Module):\n",
        "    def __init__(self, embed_size, hidden_size, vocab_size, num_layers=1):\n",
        "        super(DecoderRNN, self).__init__()\n",
        "        self.embed_size = embed_size\n",
        "        self.hidden_size = hidden_size\n",
        "        self.vocab_size = vocab_size\n",
        "        self.num_layers = num_layers\n",
        "        \n",
        "        # embedding layer that turns words into a vector of a specified size\n",
        "        self.word_embeddings = nn.Embedding(vocab_size, embed_size)\n",
        "\n",
        "        # the LSTM takes embedded word vectors (of a specified size) as inputs \n",
        "        # and outputs hidden states of size hidden_dim\n",
        "        self.lstm = nn.LSTM(input_size=embed_size,\n",
        "                            hidden_size=hidden_size,\n",
        "                            num_layers=num_layers,\n",
        "                            #dropout=0.4,\n",
        "                            batch_first=True)\n",
        "\n",
        "        # the linear layer that maps the hidden state output dimension \n",
        "        # to the vocab_size\n",
        "        self.hidden2vocab = nn.Linear(hidden_size, vocab_size)\n",
        "        \n",
        "    def forward(self, features, captions):\n",
        "        # create embedded word vectors for each token in a batch of captions\n",
        "        embeds = self.word_embeddings(captions[:,:-1])  # batch_size,cap_length -> batch_size,cap_length-1,embed_size\n",
        "\n",
        "         # -> batch_size, caption (sequence) length, embed_size\n",
        "        inputs = torch.cat((features.unsqueeze(dim=1),embeds), dim=1)\n",
        "\n",
        "        lstm_out, _ = self.lstm(inputs);   # print (lstm_out.shape) -> batch_size, caplength, hidden_size\n",
        "\n",
        "        # get the scores for the most likely words\n",
        "        outputs = self.hidden2vocab(lstm_out);     # print (outputs.shape) -> batch_size, caplength, vocab_size\n",
        "        \n",
        "        return outputs  #[:,:-1,:] # discard the last output of each sample in the batch.\n",
        "\n",
        "    def sample(self, inputs, states=None, max_len=20):\n",
        "        \" accepts pre-processed image tensor (inputs) and returns predicted sentence (list of tensor ids of length max_len) \"\n",
        "    \n",
        "        caption = []\n",
        "        \n",
        "        # Don't frankly know why \"states\" is provided as an input parameter, it doesn't\n",
        "        #     seem like the kind of thing a caller would care about.\n",
        "        # initialize the hidden state and send it to the same device as the inputs\n",
        "        hidden = (torch.randn(self.num_layers, 1, self.hidden_size).to(inputs.device),\n",
        "                  torch.randn(self.num_layers, 1, self.hidden_size).to(inputs.device))\n",
        "\n",
        "        # Now we feed the LSTM output and hidden states back into itself to get the caption\n",
        "        for i in range(max_len):\n",
        "            lstm_out, hidden = self.lstm(inputs, hidden) # batch_size=1, sequence length=1 ->1,1,embedsize\n",
        "            outputs = self.hidden2vocab(lstm_out)        # 1,1,vocab_size\n",
        "            outputs = outputs.squeeze(1)                 # 1,vocab_size\n",
        "            wordid  = outputs.argmax(dim=1)              # 1\n",
        "            caption.append(wordid.item())\n",
        "            \n",
        "            # prepare input for next iteration\n",
        "            inputs = self.word_embeddings(wordid.unsqueeze(0))  # 1,1->1,1,embed_size\n",
        "          \n",
        "        return caption"
      ],
      "execution_count": 0,
      "outputs": []
    },
    {
      "cell_type": "code",
      "metadata": {
        "id": "nN2L6foOpTNf",
        "colab_type": "code",
        "outputId": "620e79dc-022c-44e8-e561-3be2f4f8fe70",
        "colab": {
          "base_uri": "https://localhost:8080/",
          "height": 70
        }
      },
      "source": [
        "import numpy as np\n",
        "import torch.utils.data as data\n",
        "\n",
        "# Randomly sample a caption length, and sample indices with that length.\n",
        "indices = data_loader.dataset.get_train_indices()\n",
        "print('sampled indices:', indices)\n",
        "\n",
        "# Create and assign a batch sampler to retrieve a batch with the sampled indices.\n",
        "new_sampler = data.sampler.SubsetRandomSampler(indices=indices)\n",
        "data_loader.batch_sampler.sampler = new_sampler\n",
        "    \n",
        "# Obtain the batch.\n",
        "images, captions = next(iter(data_loader))\n",
        "    \n",
        "print('images.shape:', images.shape)\n",
        "print('captions.shape:', captions.shape)\n",
        "\n",
        "# (Optional) Uncomment the lines of code below to print the pre-processed images and captions.\n",
        "# print('images:', images)\n",
        "# print('captions:', captions)"
      ],
      "execution_count": 17,
      "outputs": [
        {
          "output_type": "stream",
          "text": [
            "sampled indices: [78255, 344527, 22688, 203115, 152321, 308155, 11892, 142320, 107454, 181954]\n",
            "images.shape: torch.Size([10, 3, 224, 224])\n",
            "captions.shape: torch.Size([10, 9])\n"
          ],
          "name": "stdout"
        }
      ]
    },
    {
      "cell_type": "code",
      "metadata": {
        "id": "4y3Hi2VUpYd1",
        "colab_type": "code",
        "outputId": "0cec5e67-1a99-435c-f033-933c8e301a8a",
        "colab": {
          "base_uri": "https://localhost:8080/",
          "height": 70
        }
      },
      "source": [
        "import torch\n",
        "import torch.nn as nn\n",
        "from torchvision import transforms\n",
        "import sys\n",
        "sys.path.append('/opt/cocoapi/PythonAPI')\n",
        "from pycocotools.coco import COCO\n",
        "# from data_loader import get_loader\n",
        "import math\n",
        "\n",
        "import nltk\n",
        "nltk.download('punkt')"
      ],
      "execution_count": 18,
      "outputs": [
        {
          "output_type": "stream",
          "text": [
            "[nltk_data] Downloading package punkt to /root/nltk_data...\n",
            "[nltk_data]   Package punkt is already up-to-date!\n"
          ],
          "name": "stdout"
        },
        {
          "output_type": "execute_result",
          "data": {
            "text/plain": [
              "True"
            ]
          },
          "metadata": {
            "tags": []
          },
          "execution_count": 18
        }
      ]
    },
    {
      "cell_type": "code",
      "metadata": {
        "id": "Xbrz66eyyEKT",
        "colab_type": "code",
        "colab": {}
      },
      "source": [
        "## TODO #1: Select appropriate values for the Python variables below.\n",
        "num_layers=1\n",
        "batch_size = 128           # batch size\n",
        "vocab_threshold = 5        # minimum word count threshold\n",
        "vocab_from_file = True     # if True, load existing vocab file\n",
        "embed_size = 512           # dimensionality of image and word embeddings\n",
        "hidden_size = 512          # number of features in hidden state of the RNN decoder\n",
        "num_epochs = 3             # number of training epochs\n",
        "save_every = 1             # determines frequency of saving model weights\n",
        "print_every = 100          # determines window for printing average loss\n",
        "log_file = 'training_log.txt'       # name of file with saved training loss and perplexity"
      ],
      "execution_count": 0,
      "outputs": []
    },
    {
      "cell_type": "code",
      "metadata": {
        "id": "mNTjkMpSyIe0",
        "colab_type": "code",
        "outputId": "3b47798a-b94e-49db-ce8f-079b98aa38fe",
        "colab": {
          "base_uri": "https://localhost:8080/",
          "height": 141
        }
      },
      "source": [
        "# (Optional) TODO #2: Amend the image transform below.\n",
        "transform_train = transforms.Compose([ \n",
        "    transforms.Resize(256),                          # smaller edge of image resized to 256\n",
        "    transforms.RandomCrop(224),                      # get 224x224 crop from random location\n",
        "    transforms.RandomHorizontalFlip(),               # horizontally flip image with probability=0.5\n",
        "    transforms.ToTensor(),                           # convert the PIL Image to a tensor\n",
        "    transforms.Normalize((0.485, 0.456, 0.406),      # normalize image for pre-trained model\n",
        "                         (0.229, 0.224, 0.225))])\n",
        "\n",
        "# Build data loader.\n",
        "data_loader = get_loader(transform=transform_train,\n",
        "                         mode='train',\n",
        "                         batch_size=batch_size,\n",
        "                         vocab_threshold=vocab_threshold,\n",
        "                         vocab_from_file=vocab_from_file)\n",
        "\n",
        "# The size of the vocabulary.\n",
        "vocab_size = len(data_loader.dataset.vocab)"
      ],
      "execution_count": 20,
      "outputs": [
        {
          "output_type": "stream",
          "text": [
            "Vocabulary successfully loaded from vocab.pkl file!\n",
            "loading annotations into memory...\n",
            "Done (t=2.38s)\n",
            "creating index...\n"
          ],
          "name": "stdout"
        },
        {
          "output_type": "stream",
          "text": [
            "  0%|          | 586/414113 [00:00<01:10, 5858.46it/s]"
          ],
          "name": "stderr"
        },
        {
          "output_type": "stream",
          "text": [
            "index created!\n",
            "Obtaining caption lengths...\n"
          ],
          "name": "stdout"
        },
        {
          "output_type": "stream",
          "text": [
            "100%|██████████| 414113/414113 [00:59<00:00, 6936.50it/s]\n"
          ],
          "name": "stderr"
        }
      ]
    },
    {
      "cell_type": "code",
      "metadata": {
        "id": "z_otwBahyPNl",
        "colab_type": "code",
        "colab": {
          "base_uri": "https://localhost:8080/",
          "height": 52
        },
        "outputId": "9f74922b-19c1-4a2a-dcc9-3183b2d06efc"
      },
      "source": [
        "# from model import EncoderCNN, DecoderRNN\n",
        "\n",
        "# Initialize the encoder and decoder. \n",
        "encoder = EncoderCNN(embed_size)\n",
        "decoder = DecoderRNN(embed_size, hidden_size, vocab_size,  num_layers)\n",
        "\n",
        "# Move models to GPU if CUDA is available. \n",
        "device = torch.device(\"cuda\" if torch.cuda.is_available() else \"cpu\")\n",
        "encoder.to(device)\n",
        "decoder.to(device)\n",
        "\n",
        "# Define the loss function. \n",
        "criterion = nn.CrossEntropyLoss().cuda() if torch.cuda.is_available() else nn.CrossEntropyLoss()\n",
        "\n",
        "# TODO #3: Specify the learnable parameters of the model.\n",
        "params = list(decoder.parameters()) + list(encoder.embed.parameters())\n",
        "\n",
        "# TODO #4: Define the optimizer.\n",
        "#optimizer = torch.optim.SGD(params, lr=1)\n",
        "optimizer = torch.optim.Adam(params) #, lr=.005)\n",
        "\n",
        "# Set the total number of training steps per epoch.\n",
        "total_step = math.ceil(len(data_loader.dataset.caption_lengths) / data_loader.batch_sampler.batch_size)"
      ],
      "execution_count": 21,
      "outputs": [
        {
          "output_type": "stream",
          "text": [
            "Downloading: \"https://download.pytorch.org/models/resnet50-19c8e357.pth\" to /root/.cache/torch/checkpoints/resnet50-19c8e357.pth\n",
            "100%|██████████| 102502400/102502400 [00:01<00:00, 90537316.69it/s]\n"
          ],
          "name": "stderr"
        }
      ]
    },
    {
      "cell_type": "code",
      "metadata": {
        "id": "6Rh0hdN0yWCK",
        "colab_type": "code",
        "outputId": "1b9ab10f-9456-4c37-efd9-719c622ea9ce",
        "colab": {
          "base_uri": "https://localhost:8080/",
          "height": 798
        }
      },
      "source": [
        "import torch.utils.data as data\n",
        "import numpy as np\n",
        "import os\n",
        "import requests\n",
        "import time\n",
        "\n",
        "# Open the training log file.\n",
        "f = open(log_file, 'w')\n",
        "\n",
        "old_time = time.time()\n",
        "# response = requests.request(\"GET\", \n",
        "#                             \"http://metadata.google.internal/computeMetadata/v1/instance/attributes/keep_alive_token\", \n",
        "#                             headers={\"Metadata-Flavor\":\"Google\"})\n",
        "\n",
        "for epoch in range(1, num_epochs+1):\n",
        "    \n",
        "    for i_step in range(1, total_step+1):\n",
        "        \n",
        "#         if time.time() - old_time > 60:\n",
        "#             old_time = time.time()\n",
        "#             requests.request(\"POST\", \n",
        "#                              \"https://nebula.udacity.com/api/v1/remote/keep-alive\", \n",
        "#                              headers={'Authorization': \"STAR \" + response.text})\n",
        "        \n",
        "        # Randomly sample a caption length, and sample indices with that length.\n",
        "        indices = data_loader.dataset.get_train_indices()\n",
        "        # Create and assign a batch sampler to retrieve a batch with the sampled indices.\n",
        "        new_sampler = data.sampler.SubsetRandomSampler(indices=indices)\n",
        "        data_loader.batch_sampler.sampler = new_sampler\n",
        "        \n",
        "        # Obtain the batch.\n",
        "        images, captions = next(iter(data_loader))\n",
        "\n",
        "        # Move batch of images and captions to GPU if CUDA is available.\n",
        "        images = images.to(device)\n",
        "        captions = captions.to(device)\n",
        "        \n",
        "        # Zero the gradients.\n",
        "        decoder.zero_grad()\n",
        "        encoder.zero_grad()\n",
        "        \n",
        "        # Pass the inputs through the CNN-RNN model.\n",
        "        features = encoder(images)\n",
        "        outputs = decoder(features, captions)\n",
        "        \n",
        "        # Calculate the batch loss.\n",
        "        #print (outputs.shape, captions.shape)\n",
        "        loss = criterion(outputs.view(-1, vocab_size), captions.view(-1))\n",
        "        \n",
        "        # Backward pass.\n",
        "        loss.backward()\n",
        "        \n",
        "        # Update the parameters in the optimizer.\n",
        "        optimizer.step()\n",
        "            \n",
        "        # Get training statistics.\n",
        "        stats = 'Epoch [%d/%d], Step [%d/%d], Loss: %.4f, Perplexity: %5.4f' % (epoch, num_epochs, i_step, total_step, loss.item(), np.exp(loss.item()))\n",
        "        \n",
        "        # Print training statistics (on same line).\n",
        "        print('\\r' + stats, end=\"\")\n",
        "        sys.stdout.flush()\n",
        "        \n",
        "        # Print training statistics to file.\n",
        "        f.write(stats + '\\n')\n",
        "        f.flush()\n",
        "        \n",
        "        # Print training statistics (on different line).\n",
        "        if i_step % print_every == 0:\n",
        "            print('\\r' + stats)\n",
        "            \n",
        "    # Save the weights.\n",
        "    if epoch % save_every == 0:\n",
        "        torch.save(decoder.state_dict(), os.path.join('decoder-%d.pkl' % epoch))\n",
        "        torch.save(encoder.state_dict(), os.path.join('encoder-%d.pkl' % epoch))\n",
        "\n",
        "# Close the training log file.\n",
        "f.close()"
      ],
      "execution_count": 0,
      "outputs": [
        {
          "output_type": "stream",
          "text": [
            "Epoch [1/3], Step [100/3236], Loss: 4.4493, Perplexity: 85.5684\n",
            "Epoch [1/3], Step [200/3236], Loss: 4.3711, Perplexity: 79.1313\n",
            "Epoch [1/3], Step [300/3236], Loss: 3.9884, Perplexity: 53.9684\n",
            "Epoch [1/3], Step [400/3236], Loss: 3.8922, Perplexity: 49.0209\n",
            "Epoch [1/3], Step [500/3236], Loss: 3.9065, Perplexity: 49.7250\n",
            "Epoch [1/3], Step [600/3236], Loss: 3.5139, Perplexity: 33.5778\n",
            "Epoch [1/3], Step [700/3236], Loss: 3.5766, Perplexity: 35.7519\n",
            "Epoch [1/3], Step [800/3236], Loss: 3.4572, Perplexity: 31.7292\n",
            "Epoch [1/3], Step [900/3236], Loss: 3.5805, Perplexity: 35.8927\n",
            "Epoch [1/3], Step [1000/3236], Loss: 3.4071, Perplexity: 30.1787\n",
            "Epoch [1/3], Step [1100/3236], Loss: 3.5366, Perplexity: 34.3497\n",
            "Epoch [1/3], Step [1200/3236], Loss: 2.9961, Perplexity: 20.0065\n",
            "Epoch [1/3], Step [1300/3236], Loss: 3.7244, Perplexity: 41.4468\n",
            "Epoch [1/3], Step [1400/3236], Loss: 3.1246, Perplexity: 22.7514\n",
            "Epoch [1/3], Step [1500/3236], Loss: 2.9455, Perplexity: 19.0195\n",
            "Epoch [1/3], Step [1600/3236], Loss: 3.0242, Perplexity: 20.5768\n",
            "Epoch [1/3], Step [1700/3236], Loss: 3.0665, Perplexity: 21.4658\n",
            "Epoch [1/3], Step [1800/3236], Loss: 2.9495, Perplexity: 19.0965\n",
            "Epoch [1/3], Step [1900/3236], Loss: 2.9042, Perplexity: 18.2515\n",
            "Epoch [1/3], Step [2000/3236], Loss: 2.7822, Perplexity: 16.1543\n",
            "Epoch [1/3], Step [2100/3236], Loss: 3.0592, Perplexity: 21.3111\n",
            "Epoch [1/3], Step [2200/3236], Loss: 2.8953, Perplexity: 18.0893\n",
            "Epoch [1/3], Step [2300/3236], Loss: 2.8498, Perplexity: 17.2849\n",
            "Epoch [1/3], Step [2400/3236], Loss: 2.7973, Perplexity: 16.4001\n",
            "Epoch [1/3], Step [2500/3236], Loss: 2.6314, Perplexity: 13.8939\n",
            "Epoch [1/3], Step [2600/3236], Loss: 2.8271, Perplexity: 16.8968\n",
            "Epoch [1/3], Step [2700/3236], Loss: 3.0401, Perplexity: 20.9066\n",
            "Epoch [1/3], Step [2800/3236], Loss: 2.7675, Perplexity: 15.9188\n",
            "Epoch [1/3], Step [2900/3236], Loss: 3.1305, Perplexity: 22.8857\n",
            "Epoch [1/3], Step [3000/3236], Loss: 2.7669, Perplexity: 15.9100\n",
            "Epoch [1/3], Step [3100/3236], Loss: 3.2457, Perplexity: 25.6797\n",
            "Epoch [1/3], Step [3200/3236], Loss: 2.9726, Perplexity: 19.5432\n",
            "Epoch [2/3], Step [100/3236], Loss: 2.7569, Perplexity: 15.7511\n",
            "Epoch [2/3], Step [200/3236], Loss: 2.7338, Perplexity: 15.3917\n",
            "Epoch [2/3], Step [300/3236], Loss: 2.7301, Perplexity: 15.3343\n",
            "Epoch [2/3], Step [400/3236], Loss: 2.8124, Perplexity: 16.6496\n",
            "Epoch [2/3], Step [500/3236], Loss: 2.7828, Perplexity: 16.1648\n",
            "Epoch [2/3], Step [600/3236], Loss: 2.5942, Perplexity: 13.3859\n",
            "Epoch [2/3], Step [700/3236], Loss: 2.5052, Perplexity: 12.2465\n",
            "Epoch [2/3], Step [800/3236], Loss: 2.6779, Perplexity: 14.5544\n",
            "Epoch [2/3], Step [900/3236], Loss: 2.4824, Perplexity: 11.9704\n",
            "Epoch [2/3], Step [1000/3236], Loss: 2.7278, Perplexity: 15.2992\n",
            "Epoch [2/3], Step [1100/3236], Loss: 2.5495, Perplexity: 12.8012\n",
            "Epoch [2/3], Step [1190/3236], Loss: 3.1189, Perplexity: 22.6211"
          ],
          "name": "stdout"
        }
      ]
    },
    {
      "cell_type": "code",
      "metadata": {
        "id": "djjX6G2ydvpF",
        "colab_type": "code",
        "colab": {}
      },
      "source": [
        "torch.save(decoder.state_dict(), os.path.join('decoder-%d.pkl' % epoch))\n",
        "torch.save(encoder.state_dict(), os.path.join('encoder-%d.pkl' % epoch))"
      ],
      "execution_count": 0,
      "outputs": []
    },
    {
      "cell_type": "code",
      "metadata": {
        "id": "oMuTiAv0CTQ-",
        "colab_type": "code",
        "colab": {}
      },
      "source": [
        "!cp encoder-3.pkl ./drive/My\\ Drive/dataset/"
      ],
      "execution_count": 0,
      "outputs": []
    },
    {
      "cell_type": "code",
      "metadata": {
        "id": "au5RlbeKv7BA",
        "colab_type": "code",
        "colab": {}
      },
      "source": [
        "!cp decoder-3.pkl ./drive/My\\ Drive/dataset/"
      ],
      "execution_count": 0,
      "outputs": []
    },
    {
      "cell_type": "code",
      "metadata": {
        "id": "K_tWU1BUwGg2",
        "colab_type": "code",
        "colab": {}
      },
      "source": [
        ""
      ],
      "execution_count": 0,
      "outputs": []
    }
  ]
}